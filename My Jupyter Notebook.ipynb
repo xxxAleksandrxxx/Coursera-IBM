{
 "cells": [
  {
   "cell_type": "markdown",
   "metadata": {
    "collapsed": true
   },
   "source": [
    "# My Jupyter Notebook on IBM Watson Studio"
   ]
  },
  {
   "cell_type": "markdown",
   "metadata": {},
   "source": [
    "**Aleksandr**  \n",
    "My current occupation is technical specialist and I want to switch it to Data Scientist"
   ]
  },
  {
   "cell_type": "markdown",
   "metadata": {},
   "source": [
    "*I just like data, math and writing some code so it looks like Data Science suits best for me*"
   ]
  },
  {
   "cell_type": "markdown",
   "metadata": {},
   "source": [
    "### The following code build a pyramid using input from the user"
   ]
  },
  {
   "cell_type": "code",
   "execution_count": 3,
   "metadata": {},
   "outputs": [
    {
     "name": "stdout",
     "output_type": "stream",
     "text": [
      "enter one symbol for buidig a pyramid: E\n",
      "enter number pyramid height: 5\n",
      "     E\n",
      "    EEE\n",
      "   EEEEE\n",
      "  EEEEEEE\n",
      " EEEEEEEEE\n"
     ]
    }
   ],
   "source": [
    "def draw_triangle(l, s):\n",
    "    # draw a l-height pyramid using * symbols\n",
    "    for i in range(l):\n",
    "        print(' ' * (l - i) + s * (2 * i + 1))\n",
    "\n",
    "while True:\n",
    "    sym = input('enter one symbol for buidig a pyramid: ')\n",
    "    if len(sym) == 1:\n",
    "        break\n",
    "    else:\n",
    "        print('\\nONE symbol please ^_^\\n')\n",
    "        \n",
    "while True:\n",
    "    try:\n",
    "        lines = int(input('enter number pyramid height: '))\n",
    "        if lines > 20:\n",
    "            print('\\ntry smaller number please\\n')\n",
    "        else:\n",
    "            break\n",
    "    except:\n",
    "        print(\"\\nuse digits please please ^_^'\\n\")\n",
    "        \n",
    "draw_triangle(lines, sym)"
   ]
  },
  {
   "cell_type": "markdown",
   "metadata": {},
   "source": [
    "Cell 6 (rendered as Markdown): Using Markdown or HTML, this cell must include at least 3 of the following:  \n",
    "- [x] **horizontal rule**\n",
    "***\n",
    "- [x] **bulleted list**\n",
    "+ item one\n",
    "+ item two\n",
    "+ item three\n",
    "\n",
    "- [x] **numbered list**\n",
    "1. item one\n",
    "2. item two\n",
    "3. item three\n",
    "\n",
    "- [x] **tables** \n",
    "| column 1 | column 2 | column 3 |\n",
    "| :--- | --- | ---: |\n",
    "| some text 1 | some text 2 | some text 3 |\n",
    "| more text 1 | more text 2 | more text 3 |\n",
    "\n",
    "- [x] **hyperlinks**  \n",
    "[Google link](https://google.com)\n",
    "\n",
    "- [x] **images**  \n",
    "![snake](https://cdn.pixabay.com/photo/2013/12/10/18/22/green-tree-python-226553__480.jpg)\n",
    "\n",
    "- [ ] **code/syntax highlighting**  \n",
    "```python\n",
    "print('Hellow World!')\n",
    "```  \n",
    "- [ ] **blocked quotes**\n",
    "> Beautiful is better than ugly.  \n",
    "\n",
    "- [ ] **strikethrough**  \n",
    "~~Complex is better than simple.~~ Simple is better than complex."
   ]
  },
  {
   "cell_type": "code",
   "execution_count": null,
   "metadata": {},
   "outputs": [],
   "source": []
  }
 ],
 "metadata": {
  "kernelspec": {
   "display_name": "Python 3.10",
   "language": "python",
   "name": "python3"
  },
  "language_info": {
   "codemirror_mode": {
    "name": "ipython",
    "version": 3
   },
   "file_extension": ".py",
   "mimetype": "text/x-python",
   "name": "python",
   "nbconvert_exporter": "python",
   "pygments_lexer": "ipython3",
   "version": "3.10.9"
  }
 },
 "nbformat": 4,
 "nbformat_minor": 1
}
