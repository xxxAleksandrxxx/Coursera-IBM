{
    "cells": [
        {
            "metadata": {
                "collapsed": true
            },
            "cell_type": "markdown",
            "source": "# My Jupyter Notebook on IBM Watson Studio"
        },
        {
            "metadata": {},
            "cell_type": "markdown",
            "source": "**Aleksandr**  \nMy current occupation is technical specialist and I want to switch it to Data Scientist"
        },
        {
            "metadata": {},
            "cell_type": "markdown",
            "source": "*I just like data, math and writing some code so it looks like Data Science suits best for me*"
        },
        {
            "metadata": {},
            "cell_type": "markdown",
            "source": "### The following code build a pyramid using input from the user"
        },
        {
            "metadata": {},
            "cell_type": "code",
            "source": "def draw_triangle(l, s):\n    # draw a l-height pyramid using * symbols\n    for i in range(l):\n        print(' ' * (l - i) + s * (2 * i + 1))\n\nwhile True:\n    sym = input('enter one symbol for buidig a pyramid: ')\n    if len(sym) == 1:\n        break\n    else:\n        print('\\nONE symbol please ^_^\\n')\n        \nwhile True:\n    try:\n        lines = int(input('enter number pyramid height: '))\n        if lines > 20:\n            print('\\ntry smaller number please\\n')\n        else:\n            break\n    except:\n        print(\"\\nuse digits please please ^_^'\\n\")\n        \ndraw_triangle(lines, sym)",
            "execution_count": 3,
            "outputs": [
                {
                    "output_type": "stream",
                    "name": "stdout",
                    "text": "enter one symbol for buidig a pyramid: E\nenter number pyramid height: 5\n     E\n    EEE\n   EEEEE\n  EEEEEEE\n EEEEEEEEE\n"
                }
            ]
        },
        {
            "metadata": {},
            "cell_type": "markdown",
            "source": "Cell 6 (rendered as Markdown): Using Markdown or HTML, this cell must include at least 3 of the following:  \n- [x] **horizontal rule**\n***\n- [x] **bulleted list**\n+ item one\n+ item two\n+ item three\n\n- [x] **numbered list**\n1. item one\n2. item two\n3. item three\n\n- [x] **tables** \n| column 1 | column 2 | column 3 |\n| :--- | --- | ---: |\n| some text 1 | some text 2 | some text 3 |\n| more text 1 | more text 2 | more text 3 |\n\n- [x] **hyperlinks**  \n[Google link](https://google.com)\n\n- [x] **images**  \n![snake](https://cdn.pixabay.com/photo/2013/12/10/18/22/green-tree-python-226553__480.jpg)\n\n- [ ] **code/syntax highlighting**  \n```python\nprint('Hellow World!')\n```  \n- [ ] **blocked quotes**\n> Beautiful is better than ugly.  \n\n- [ ] **strikethrough**  \n~~Complex is better than simple.~~ Simple is better than complex."
        },
        {
            "metadata": {},
            "cell_type": "code",
            "source": "",
            "execution_count": null,
            "outputs": []
        }
    ],
    "metadata": {
        "kernelspec": {
            "name": "python3",
            "display_name": "Python 3.10",
            "language": "python"
        },
        "language_info": {
            "name": "python",
            "version": "3.10.9",
            "mimetype": "text/x-python",
            "codemirror_mode": {
                "name": "ipython",
                "version": 3
            },
            "pygments_lexer": "ipython3",
            "nbconvert_exporter": "python",
            "file_extension": ".py"
        }
    },
    "nbformat": 4,
    "nbformat_minor": 1
}